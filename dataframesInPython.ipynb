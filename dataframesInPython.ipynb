{
  "nbformat": 4,
  "nbformat_minor": 0,
  "metadata": {
    "colab": {
      "name": "dataframesInPython.ipynb",
      "provenance": [],
      "collapsed_sections": []
    },
    "kernelspec": {
      "name": "python3",
      "display_name": "Python 3"
    }
  },
  "cells": [
    {
      "cell_type": "markdown",
      "metadata": {
        "id": "U3Yz3s2uio1F"
      },
      "source": [
        "**Q1. Lets consider your data is like the below cell:**\n",
        "\n",
        "**Q1-1**: Write a program that create a dataframe from the data.\n",
        "\n",
        "**Q1-2:** Select people that are psychologist or teacher and their number of cars is greater than their family size.\n",
        "\n",
        "**Q1-3:** Select people who have at most 2 family members and at least 1 car.\n",
        "\n",
        "**Q1-4:** Write a code that get number of unique jobs in this dataset.\n",
        "\n",
        "\n",
        "\n"
      ]
    },
    {
      "cell_type": "code",
      "metadata": {
        "id": "yR8lcOtcjxXD",
        "colab": {
          "base_uri": "https://localhost:8080/"
        },
        "outputId": "9f604a56-5677-4042-aacb-850c5d883310"
      },
      "source": [
        "data = {\"name\": [\"Joseph\", \"Jacob\", \"Sam\", \"Jesee\", \"Ryan\", \"Lisa\", \"Lee\"],\n",
        "        \"job\": [\"teacher\", \"psychologist\", \"data scientist\", \"software developer\", \"psychologist\", \"psychologist\", \"teacher\"],\n",
        "        \"family_size\": [3, 2, 1, 4, 2, 3, 2],\n",
        "        \"num_cars\": [3, 1, 1, 2, 2, 4, 1]}\n",
        "import pandas as pd\n",
        "#Q1\n",
        "df = pd.DataFrame(data)\n",
        "#Q2\n",
        "sub = df[(df.job == \"teacher\") | (df.job == \"psychologist\")] #for \"or\" you only require one stick\n",
        "print(sub[sub[\"num_cars\"] > sub[\"family_size\"]])\n",
        "#Q3\n",
        "fam = df[(df[\"family_size\"] <= 2) & (df[\"num_cars\"] >= 1)] # this might not work without the brackets test that\n",
        "print(fam)\n",
        "#Q4\n",
        "un = df.job.unique() #since unique is a function it needs to have brackets [see if you can use dot for this]\n",
        "print(len(un))"
      ],
      "execution_count": null,
      "outputs": [
        {
          "output_type": "stream",
          "text": [
            "   name           job  family_size  num_cars\n",
            "5  Lisa  psychologist            3         4\n",
            "    name             job  family_size  num_cars\n",
            "1  Jacob    psychologist            2         1\n",
            "2    Sam  data scientist            1         1\n",
            "4   Ryan    psychologist            2         2\n",
            "6    Lee         teacher            2         1\n",
            "4\n"
          ],
          "name": "stdout"
        }
      ]
    },
    {
      "cell_type": "code",
      "metadata": {
        "id": "Youi5qMaP34p",
        "colab": {
          "base_uri": "https://localhost:8080/"
        },
        "outputId": "00b2f47b-5419-4c4e-d429-fe15c6582fbe"
      },
      "source": [
        "# Q1-1\n",
        "import pandas as pd\n",
        "data = {\"name\": [\"Joseph\", \"Jacob\", \"Sam\", \"Jesee\", \"Ryan\", \"Lisa\", \"Lee\"],\n",
        "        \"job\": [\"teacher\", \"psychologist\", \"data scientist\", \"software developer\", \"psychologist\", \"psychologist\", \"teacher\"],\n",
        "        \"family_size\": [3, 2, 1, 4, 2, 3, 2],\n",
        "        \"num_cars\": [3, 1, 1, 2, 2, 4, 1]}\n",
        "df = pd.DataFrame(data)\n",
        "print(\"Q1-1  \")\n",
        "print(df)\n",
        "\n",
        "# Q1-2\n",
        "# Selecting people that are psychologist or teacher and their number of cars is greater than their family size.\n",
        "print(\"\\nQ1-2  \")\n",
        "df_sub1 = df[(df['job'] == \"psychologist\") | (df['job'] == \"teacher\")]\n",
        "df1 = df_sub1\n",
        "df1['Check'] = (df_sub1['num_cars'] > df_sub1['family_size'])\n",
        "print(\"People that are psychologist or teacher and their number of cars is greater than their family size:\")\n",
        "print(df1[df1['Check'].values] [['name', 'job','family_size', 'num_cars']])\n",
        "\n",
        "\n",
        "# Q1-3\n",
        "# Selecting people who have at most 2 family members and at least 1 car.\n",
        "print(\"\\nQ1-3  \")\n",
        "df_sub = df[(df['family_size'] <= 2) & (df['num_cars'] >= 1)]\n",
        "print(\"People who have at most 2 family members and at least 1 car:\")\n",
        "print(df_sub)\n",
        "\n",
        "# Q1-4 \n",
        "# Write a code that get number of unique jobs in this dataset.\n",
        "arr = df[\"job\"].unique()\n",
        "print(\"\\nQ1-4  \")\n",
        "length = len(arr)\n",
        "print(\"number of unqiue jobs in this dataset:\", length)\n",
        "\n",
        "print(\"\\n\")"
      ],
      "execution_count": null,
      "outputs": [
        {
          "output_type": "stream",
          "text": [
            "Q1-1  \n",
            "     name                 job  family_size  num_cars\n",
            "0  Joseph             teacher            3         3\n",
            "1   Jacob        psychologist            2         1\n",
            "2     Sam      data scientist            1         1\n",
            "3   Jesee  software developer            4         2\n",
            "4    Ryan        psychologist            2         2\n",
            "5    Lisa        psychologist            3         4\n",
            "6     Lee             teacher            2         1\n",
            "\n",
            "Q1-2  \n",
            "People that are psychologist or teacher and their number of cars is greater than their family size:\n",
            "   name           job  family_size  num_cars\n",
            "5  Lisa  psychologist            3         4\n",
            "\n",
            "Q1-3  \n",
            "People who have at most 2 family members and at least 1 car:\n",
            "    name             job  family_size  num_cars\n",
            "1  Jacob    psychologist            2         1\n",
            "2    Sam  data scientist            1         1\n",
            "4   Ryan    psychologist            2         2\n",
            "6    Lee         teacher            2         1\n",
            "\n",
            "Q1-4  \n",
            "number of unqiue jobs in this dataset: 4\n",
            "\n",
            "\n"
          ],
          "name": "stdout"
        },
        {
          "output_type": "stream",
          "text": [
            "/usr/local/lib/python3.7/dist-packages/ipykernel_launcher.py:16: SettingWithCopyWarning: \n",
            "A value is trying to be set on a copy of a slice from a DataFrame.\n",
            "Try using .loc[row_indexer,col_indexer] = value instead\n",
            "\n",
            "See the caveats in the documentation: https://pandas.pydata.org/pandas-docs/stable/user_guide/indexing.html#returning-a-view-versus-a-copy\n",
            "  app.launch_new_instance()\n"
          ],
          "name": "stderr"
        }
      ]
    },
    {
      "cell_type": "markdown",
      "metadata": {
        "id": "Ow6nG8k4l91X"
      },
      "source": [
        "**Q2. Lets consider you have two series like the below cell. Compute the mean of weights of each fruit.**"
      ]
    },
    {
      "cell_type": "code",
      "metadata": {
        "id": "u-X_DoOzVLLB"
      },
      "source": [
        "import numpy as np\n",
        "fruit = pd.Series(np.random.choice(['apple', 'banana', 'carrot'], 10))\n",
        "weights = pd.Series(np.linspace(1, 10, 10))\n",
        "\n"
      ],
      "execution_count": null,
      "outputs": []
    },
    {
      "cell_type": "code",
      "metadata": {
        "id": "S419nzYnpU__",
        "colab": {
          "base_uri": "https://localhost:8080/"
        },
        "outputId": "6352c5c3-0f99-427d-c192-a1e570192902"
      },
      "source": [
        "import numpy as np\n",
        "fruit = pd.Series(np.random.choice(['apple', 'banana', 'carrot'], 10))\n",
        "weights = pd.Series(np.linspace(1, 10, 10))\n",
        "weights.groupby(fruit).mean()"
      ],
      "execution_count": null,
      "outputs": [
        {
          "output_type": "execute_result",
          "data": {
            "text/plain": [
              "banana    4.4\n",
              "carrot    6.6\n",
              "dtype: float64"
            ]
          },
          "metadata": {
            "tags": []
          },
          "execution_count": 14
        }
      ]
    },
    {
      "cell_type": "markdown",
      "metadata": {
        "id": "g4lKaPIhtVrt"
      },
      "source": [
        "**Q3. Consider the below course_name array:**\n",
        "\n",
        "**Q3-1**: Write a NumPy program to get the indices of the sorted elements of **course_name** array.\n",
        "\n",
        "**Q3-2:** Write numpy code to check whether each element of **course_name** array starts with \"P\".\n"
      ]
    },
    {
      "cell_type": "code",
      "metadata": {
        "id": "RUP_jp2KtVrx"
      },
      "source": [
        "import numpy as np\n",
        "course_name = np.array(['Python', 'JS', 'examples', 'PHP', 'html'])"
      ],
      "execution_count": null,
      "outputs": []
    },
    {
      "cell_type": "code",
      "metadata": {
        "id": "U1i27POxv-o_",
        "colab": {
          "base_uri": "https://localhost:8080/"
        },
        "outputId": "3e488592-40d0-4278-db1a-620ddc0e993a"
      },
      "source": [
        "import numpy as np\n",
        "\n",
        "#Q3-1\n",
        "course_name = np.array(['Python', 'JS', 'examples', 'PHP', 'html'])\n",
        "course_name_sort = np.sort(course_name)\n",
        "for i in enumerate(course_name_sort):\n",
        "  print(i)\n",
        "\n",
        "#Q3-2\n",
        "print(\"\\nChecking whether each element of course name starts with P:\")\n",
        "print(course_name)\n",
        "np.char.startswith(course_name, \"P\")\n",
        "\n",
        "\n",
        "  "
      ],
      "execution_count": null,
      "outputs": [
        {
          "output_type": "stream",
          "text": [
            "(0, 'JS')\n",
            "(1, 'PHP')\n",
            "(2, 'Python')\n",
            "(3, 'examples')\n",
            "(4, 'html')\n",
            "\n",
            "Checking whether each element of course name starts with P:\n",
            "['Python' 'JS' 'examples' 'PHP' 'html']\n"
          ],
          "name": "stdout"
        },
        {
          "output_type": "execute_result",
          "data": {
            "text/plain": [
              "array([ True, False, False,  True, False])"
            ]
          },
          "metadata": {
            "tags": []
          },
          "execution_count": 111
        }
      ]
    },
    {
      "cell_type": "markdown",
      "metadata": {
        "id": "sUFItNFOxwkz"
      },
      "source": [
        "**Q4. Consider the below student_id array:**\n",
        "\n",
        "**Q4-1:** Reverse the **student_id** array. Print both original and reversed array.\n",
        "\n",
        "**Q4-2:** Get the 3-largest values of **student_id** array."
      ]
    },
    {
      "cell_type": "code",
      "metadata": {
        "id": "Rl5qzEjFv0nw"
      },
      "source": [
        "import numpy as np\n",
        "student_id = np.array([1023, 5202, 6230, 1671, 1682, 5241, 4532])"
      ],
      "execution_count": null,
      "outputs": []
    },
    {
      "cell_type": "code",
      "metadata": {
        "id": "EetvHGrUxMCC",
        "colab": {
          "base_uri": "https://localhost:8080/"
        },
        "outputId": "6c422694-e415-4bed-cd3e-ba49db8417db"
      },
      "source": [
        "#Q4-1\n",
        "import numpy as np\n",
        "student_id = np.array([1023, 5202, 6230, 1671, 1682, 5241, 4532])\n",
        "print(\"Q4-1\")\n",
        "print(\"Orignal array:\", student_id)\n",
        "reverse_student_id = np.flip(student_id) #reversing the array using flip\n",
        "print(\"Reversed array:\", reverse_student_id)\n",
        "\n",
        "#Q4-2\n",
        "print(\"\\nQ4-2\")\n",
        "sorted_student_id = np.sort(student_id) #np.sort sorts arrays in ascending order?\n",
        "print(\"The 3-largest values of student_id array:\")\n",
        "print(sorted_student_id[-3:])"
      ],
      "execution_count": null,
      "outputs": [
        {
          "output_type": "stream",
          "text": [
            "Q4-1\n",
            "Orignal array: [1023 5202 6230 1671 1682 5241 4532]\n",
            "Reversed array: [4532 5241 1682 1671 6230 5202 1023]\n",
            "\n",
            "Q4-2\n",
            "The 3-largest values of student_id array:\n",
            "[5202 5241 6230]\n"
          ],
          "name": "stdout"
        }
      ]
    },
    {
      "cell_type": "markdown",
      "metadata": {
        "id": "uKRyDVuW6B19"
      },
      "source": [
        "# **Q5: Write a numpy program to print sum of all the multiples of 3 or 5 below 100**"
      ]
    },
    {
      "cell_type": "code",
      "metadata": {
        "id": "qKtY0QKaJmcX"
      },
      "source": [
        "import numpy as np\n",
        "a = np.array(0,100,1)\n",
        "sum = 0\n",
        "for i in a:\n",
        "  if(a%3==0 | a%5 == 0):\n",
        "    sum += a\n",
        "print(sum)"
      ],
      "execution_count": null,
      "outputs": []
    },
    {
      "cell_type": "code",
      "metadata": {
        "id": "ZIixq1gz6OK3",
        "colab": {
          "base_uri": "https://localhost:8080/"
        },
        "outputId": "63fa5b47-d7d2-42b9-88f1-5df764d7db6f"
      },
      "source": [
        "\n",
        "import numpy as np\n",
        "a = np.arange(100)\n",
        "index = np.where((a%3==0) | (a%5==0) ) #the where function gives the index positions\n",
        "a = a[index] \n",
        "sum = a.sum() \n",
        "print(\"Sum of all the multiples of 3 or 5 below 100: \")\n",
        "print(sum)"
      ],
      "execution_count": null,
      "outputs": [
        {
          "output_type": "stream",
          "text": [
            "Sum of all the multiples of 3 or 5 below 100: \n",
            "2318\n"
          ],
          "name": "stdout"
        }
      ]
    },
    {
      "cell_type": "markdown",
      "metadata": {
        "id": "2CWJOsP24c34"
      },
      "source": [
        "**Q6. Consider the below array.**\n",
        "\n",
        "Q6.1. Write a code to swap column 1 with column 2.\n",
        "\n",
        "Q6.2. Write a code to swap row 0 with row 1."
      ]
    },
    {
      "cell_type": "code",
      "metadata": {
        "id": "3OG6X5Eg5KSM"
      },
      "source": [
        "import numpy as np\n",
        "\n",
        "arr = np.arange(12).reshape(3,4)\n",
        "print(arr)"
      ],
      "execution_count": null,
      "outputs": []
    },
    {
      "cell_type": "code",
      "metadata": {
        "id": "Q-Q91DpO5YYW",
        "colab": {
          "base_uri": "https://localhost:8080/"
        },
        "outputId": "92356c83-7c7d-4e91-ae49-a61338cdbec8"
      },
      "source": [
        "import numpy as np\n",
        "print(\"Orignal Array:\")\n",
        "arr = np.arange(12).reshape(3,4) \n",
        "print(arr)\n",
        "\n",
        "# Q6.1\n",
        "arr[:, [2, 1]] = arr[:, [1, 2]] #swap column 1 with column 2\n",
        "print(\"\\nQ6.1- Swapped Array (column 1 with column 2):\")\n",
        "print(arr)\n",
        "\n",
        "# Q6.2\n",
        "arr = np.arange(12).reshape(3,4)\n",
        "arr[[0, 1], : ] = arr [[1, 0], :]\n",
        "print(\"\\nQ6.2- Swapped Array (row 1 with row 0):\")\n",
        "print(arr)"
      ],
      "execution_count": null,
      "outputs": [
        {
          "output_type": "stream",
          "text": [
            "Orignal Array:\n",
            "[[ 0  1  2  3]\n",
            " [ 4  5  6  7]\n",
            " [ 8  9 10 11]]\n",
            "\n",
            "Q6.1- Swapped Array (column 1 with column 2):\n",
            "[[ 0  2  1  3]\n",
            " [ 4  6  5  7]\n",
            " [ 8 10  9 11]]\n",
            "\n",
            "Q6.2- Swapped Array (row 1 with row 0):\n",
            "[[ 4  5  6  7]\n",
            " [ 0  1  2  3]\n",
            " [ 8  9 10 11]]\n"
          ],
          "name": "stdout"
        }
      ]
    }
  ]
}